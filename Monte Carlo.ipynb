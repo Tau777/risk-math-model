{
 "cells": [
  {
   "cell_type": "code",
   "execution_count": 1,
   "metadata": {},
   "outputs": [
    {
     "name": "stdout",
     "output_type": "stream",
     "text": [
      "0.1675\n"
     ]
    }
   ],
   "source": [
    "import random\n",
    "\n",
    "n=10000\n",
    "c=0\n",
    "for i in range(n):\n",
    "    xi=random.randint(1,6)\n",
    "    if xi==4:\n",
    "        c=c+1\n",
    "        \n",
    "print(c/n)"
   ]
  },
  {
   "cell_type": "code",
   "execution_count": 2,
   "metadata": {},
   "outputs": [
    {
     "name": "stdout",
     "output_type": "stream",
     "text": [
      "0.1631\n"
     ]
    }
   ],
   "source": [
    "n=10000\n",
    "c=0\n",
    "for i in range(n):\n",
    "    xi=random.random()\n",
    "    if 3/6 <=xi< 4/6:\n",
    "        c=c+1\n",
    "\n",
    "print(c/n)"
   ]
  },
  {
   "cell_type": "code",
   "execution_count": 3,
   "metadata": {},
   "outputs": [],
   "source": [
    "def R(p):\n",
    "    Y=0\n",
    "    C=0\n",
    "    for t in range(7):\n",
    "        if random.random()<p:\n",
    "            Xt=1\n",
    "        else:\n",
    "            Xt=0\n",
    "        if Xt==1:\n",
    "            C=C+1\n",
    "        else:\n",
    "            C=0\n",
    "        if C>=3: Y=1\n",
    "    return(Y)"
   ]
  },
  {
   "cell_type": "code",
   "execution_count": 4,
   "metadata": {},
   "outputs": [
    {
     "name": "stdout",
     "output_type": "stream",
     "text": [
      "31\n",
      "0.31\n"
     ]
    }
   ],
   "source": [
    "S=0\n",
    "n=100\n",
    "p=0.5\n",
    "for k in range (n):\n",
    "    Y=R(p)\n",
    "    S=S+Y\n",
    "print(S)\n",
    "print(S/n)"
   ]
  },
  {
   "cell_type": "code",
   "execution_count": 5,
   "metadata": {},
   "outputs": [
    {
     "data": {
      "image/png": "[encoded data removed]",
      "text/plain": [
       "<Figure size 432x288 with 1 Axes>"
      ]
     },
     "metadata": {
      "needs_background": "light"
     },
     "output_type": "display_data"
    }
   ],
   "source": [
    "import matplotlib.pyplot as plt\n",
    "import numpy as npy\n",
    "x=npy.zeros(30)\n",
    "for j in range (30):\n",
    "    S=0\n",
    "    n=100\n",
    "    p=0.5\n",
    "    for k in range (n):\n",
    "        Y=R(p)\n",
    "        S=S+Y\n",
    "        x[j]=S/n\n",
    "plt.hist(x, bins=10)\n",
    "plt.show()"
   ]
  },
  {
   "cell_type": "code",
   "execution_count": null,
   "metadata": {},
   "outputs": [],
   "source": []
  }
 ],
 "metadata": {
  "kernelspec": {
   "display_name": "Python 3",
   "language": "python",
   "name": "python3"
  },
  "language_info": {
   "codemirror_mode": {
    "name": "ipython",
    "version": 3
   },
   "file_extension": ".py",
   "mimetype": "text/x-python",
   "name": "python",
   "nbconvert_exporter": "python",
   "pygments_lexer": "ipython3",
   "version": "3.8.5"
  }
 },
 "nbformat": 4,
 "nbformat_minor": 4
}
