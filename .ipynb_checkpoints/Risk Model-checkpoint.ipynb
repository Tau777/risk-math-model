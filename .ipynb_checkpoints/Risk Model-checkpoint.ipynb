{
 "cells": [
  {
   "cell_type": "code",
   "execution_count": 76,
   "metadata": {},
   "outputs": [],
   "source": [
    "import numpy as np\n",
    "\n",
    "a0 = 100000\n",
    "n0 = 1000\n",
    "c1 = 0.0069\n",
    "c2 = 0.0072\n",
    "c3 = 0.0015\n",
    "mu = n0 * c1\n",
    "nu = n0 * c2\n",
    "lam = n0 * c3\n",
    "d = 1056\n",
    "T = 120\n",
    "F = 38400\n"
   ]
  },
  {
   "cell_type": "code",
   "execution_count": 77,
   "metadata": {},
   "outputs": [
    {
     "name": "stdout",
     "output_type": "stream",
     "text": [
      "1010.9757005526825\n",
      "1090790.3397836327\n"
     ]
    }
   ],
   "source": [
    "# for one month\n",
    "\n",
    "a = a0\n",
    "n = n0\n",
    "mu = n * c1\n",
    "nu = n * c2\n",
    "lam = n * c3\n",
    "\n",
    "# n = n0 + expected increase - expected decrease\n",
    "# a = a0 + (n) * pmt - (expected claims) * F\n",
    "\n",
    "n = n0 + np.random.poisson(nu) - np.random.exponential(1/mu)\n",
    "a = a0 + n*d - np.random.poisson(lam)*F\n",
    "print(n)\n",
    "print(a)"
   ]
  },
  {
   "cell_type": "code",
   "execution_count": 78,
   "metadata": {},
   "outputs": [
    {
     "name": "stdout",
     "output_type": "stream",
     "text": [
      "1\n"
     ]
    }
   ],
   "source": [
    "def R():\n",
    "    success = 1\n",
    "    a = a0\n",
    "    n = n0\n",
    "    \n",
    "    for i in range(T):\n",
    "        mu = n*c1\n",
    "        nu = n*c2\n",
    "        lam = n*c3\n",
    "        n = n + np.random.poisson(nu) - np.random.exponential(mu)\n",
    "        a = a + n*d - np.random.poisson(lam)*F\n",
    "        if n < 0:\n",
    "            print(\"Error: the number of people is below 0\")\n",
    "        else:\n",
    "            if a < 0:\n",
    "                success = 0\n",
    "    \n",
    "    return(success)\n",
    "\n",
    "print(R())"
   ]
  },
  {
   "cell_type": "code",
   "execution_count": 79,
   "metadata": {},
   "outputs": [
    {
     "name": "stdout",
     "output_type": "stream",
     "text": [
      "100\n",
      "1.0\n"
     ]
    }
   ],
   "source": [
    "S=0\n",
    "num=100\n",
    "for k in range (num):\n",
    "    Y=R()\n",
    "    S=S+Y\n",
    "print(S)\n",
    "print(S/num)"
   ]
  },
  {
   "cell_type": "code",
   "execution_count": 80,
   "metadata": {},
   "outputs": [
    {
     "data": {
      "image/png": "[encoded data removed]",
      "text/plain": [
       "<Figure size 432x288 with 1 Axes>"
      ]
     },
     "metadata": {
      "needs_background": "light"
     },
     "output_type": "display_data"
    }
   ],
   "source": [
    "import matplotlib.pyplot as plt\n",
    "x=np.zeros(30)\n",
    "for j in range (30):\n",
    "    S=0\n",
    "    num=100\n",
    "    for k in range (num):\n",
    "        Y=R()\n",
    "        S=S+Y\n",
    "        x[j]=S/num\n",
    "plt.hist(x, bins=10)\n",
    "plt.show()"
   ]
  },
  {
   "cell_type": "code",
   "execution_count": null,
   "metadata": {},
   "outputs": [],
   "source": []
  }
 ],
 "metadata": {
  "kernelspec": {
   "display_name": "Python 3",
   "language": "python",
   "name": "python3"
  },
  "language_info": {
   "codemirror_mode": {
    "name": "ipython",
    "version": 3
   },
   "file_extension": ".py",
   "mimetype": "text/x-python",
   "name": "python",
   "nbconvert_exporter": "python",
   "pygments_lexer": "ipython3",
   "version": "3.8.5"
  }
 },
 "nbformat": 4,
 "nbformat_minor": 4
}
