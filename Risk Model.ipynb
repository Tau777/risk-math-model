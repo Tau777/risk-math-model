{
 "cells": [
  {
   "cell_type": "code",
   "execution_count": 115,
   "metadata": {},
   "outputs": [],
   "source": [
    "import numpy as np\n",
    "import math\n",
    "\n",
    "#starting capital\n",
    "a0 = 100000\n",
    "\n",
    "#starting subscribers\n",
    "n0 = 1000\n",
    "\n",
    "#monthly fee\n",
    "d = 133\n",
    "\n",
    "#number of months to check for bankruptcy\n",
    "T = 120\n",
    "\n",
    "#claim amount, uses log-normal distribution with minimum cost\n",
    "def F(distribution = 0, average = 38400, minAmount = 500):\n",
    "    adjAverage = average - minAmount\n",
    "    if distribution == 0:\n",
    "        # log-normal distribution (expected value = e^(mu+sigma^2/2))\n",
    "        return minAmount + adjAverage*np.random.lognormal(0,0.5)/math.exp(1/8)\n",
    "    elif distribution == 1:\n",
    "        # exponential distribution\n",
    "        return minAmount + np.random.exponential(average - minAmount)\n",
    "    elif distribution == 2:\n",
    "        # gamma distribution\n",
    "        return minAmount + np.random.gamma(4,adjAverage/4)\n",
    "    elif distribution == 3:\n",
    "        # weibull distribution (expected value = gamma(1/a + 1))\n",
    "        return minAmount + adjAverage*np.random.weibull(2)/math.gamma(1/2+1)\n",
    "    else:\n",
    "        return F(0)\n",
    "\n",
    "#names of the distributions\n",
    "F_names = [\"Log-Normal\",\"Exponential\",\"Gamma\",\"Weibull\"]\n",
    "\n",
    "#Distribution number\n",
    "D = 0\n",
    "    \n",
    "#rate one subscriber leaves\n",
    "c1 = 0.0069\n",
    "#rate one subscriber joins\n",
    "c2 = 0.0072\n",
    "#rate one claim occurs\n",
    "c3 = 0.0015\n",
    "\n",
    "#rate at which subscribers leave\n",
    "mu = n0 * c1\n",
    "#rate at which subscribers join\n",
    "nu = n0 * c2\n",
    "#rate at which claims occur\n",
    "lam = n0 * c3"
   ]
  },
  {
   "cell_type": "code",
   "execution_count": 116,
   "metadata": {},
   "outputs": [
    {
     "data": {
      "image/png": "[encoded data removed]",
      "text/plain": [
       "<Figure size 432x288 with 1 Axes>"
      ]
     },
     "metadata": {
      "needs_background": "light"
     },
     "output_type": "display_data"
    },
    {
     "name": "stdout",
     "output_type": "stream",
     "text": [
      "Log-Normal Distribution Average: 38595.746399673626\n"
     ]
    },
    {
     "data": {
      "image/png": "[encoded data removed]",
      "text/plain": [
       "<Figure size 432x288 with 1 Axes>"
      ]
     },
     "metadata": {
      "needs_background": "light"
     },
     "output_type": "display_data"
    },
    {
     "name": "stdout",
     "output_type": "stream",
     "text": [
      "Exponential Distribution Average: 38302.42291734513\n"
     ]
    },
    {
     "data": {
      "image/png": "[encoded data removed]",
      "text/plain": [
       "<Figure size 432x288 with 1 Axes>"
      ]
     },
     "metadata": {
      "needs_background": "light"
     },
     "output_type": "display_data"
    },
    {
     "name": "stdout",
     "output_type": "stream",
     "text": [
      "Gamma Distribution Average: 38540.77090704833\n"
     ]
    },
    {
     "data": {
      "image/png": "[encoded data removed]",
      "text/plain": [
       "<Figure size 432x288 with 1 Axes>"
      ]
     },
     "metadata": {
      "needs_background": "light"
     },
     "output_type": "display_data"
    },
    {
     "name": "stdout",
     "output_type": "stream",
     "text": [
      "Weibull Distribution Average: 38388.366567756246\n"
     ]
    }
   ],
   "source": [
    "import matplotlib.pyplot as plt\n",
    "\n",
    "runs = 10000\n",
    "dist = np.zeros(runs)\n",
    "for i in range(4):\n",
    "    sum = 0\n",
    "    for j in range(runs):\n",
    "        dist[j] = F(i)\n",
    "        sum += dist[j]\n",
    "    plt.hist(dist, bins=40)\n",
    "    plt.title(F_names[i])\n",
    "    plt.show()\n",
    "    print(f'{F_names[i]} Distribution Average: {sum/runs}')"
   ]
  },
  {
   "cell_type": "code",
   "execution_count": 117,
   "metadata": {},
   "outputs": [
    {
     "name": "stdout",
     "output_type": "stream",
     "text": [
      "1\n"
     ]
    }
   ],
   "source": [
    "def R(a,n,d,T,F,c1,c2,c3,D):\n",
    "    success = 1\n",
    "    \n",
    "    for i in range(T):\n",
    "        #update rates based on number of subscribers\n",
    "        mu = n*c1\n",
    "        nu = n*c2\n",
    "        lam = n*c3\n",
    "        \n",
    "        #randomly generate joining/leaving subscribers\n",
    "        num_join = np.random.poisson(nu)\n",
    "        num_leave = np.random.exponential(1/mu)\n",
    "        \n",
    "        #update total subscribers\n",
    "        n = n + num_join - num_leave\n",
    "        \n",
    "        #randomly generate number of crashes\n",
    "        num_crashes = np.random.poisson(lam)\n",
    "        \n",
    "        #calculate total damage\n",
    "        damage_total = 0\n",
    "        for i in range(num_crashes):\n",
    "            damage_total += F(D)\n",
    "        \n",
    "        #update capital available\n",
    "        a = a + n*d - damage_total\n",
    "        \n",
    "        #make sure not negative number of subscribers\n",
    "        if n < 0:\n",
    "            n = 0\n",
    "        \n",
    "        if a < 0:\n",
    "            success = 0\n",
    "            break\n",
    "    \n",
    "    return(success)\n",
    "\n",
    "print(R(a0,n0,d,T,F,c1,c2,c3,D))"
   ]
  },
  {
   "cell_type": "code",
   "execution_count": 118,
   "metadata": {},
   "outputs": [
    {
     "name": "stdout",
     "output_type": "stream",
     "text": [
      "99\n",
      "0.99\n"
     ]
    }
   ],
   "source": [
    "def runTrials(num,a,n,d,T,F,c1,c2,c3,D):\n",
    "    S=0\n",
    "    for k in range (num):\n",
    "        Y=R(a0,n0,d,T,F,c1,c2,c3,D)\n",
    "        S=S+Y\n",
    "    return S\n",
    "\n",
    "num = 100\n",
    "S = runTrials(num,a0,n0,d,T,F,c1,c2,c3,D)\n",
    "print(S)\n",
    "print(S/num)"
   ]
  },
  {
   "cell_type": "code",
   "execution_count": 119,
   "metadata": {},
   "outputs": [
    {
     "data": {
      "image/png": "[encoded data removed]",
      "text/plain": [
       "<Figure size 432x288 with 1 Axes>"
      ]
     },
     "metadata": {
      "needs_background": "light"
     },
     "output_type": "display_data"
    },
    {
     "name": "stdout",
     "output_type": "stream",
     "text": [
      "Average success: 0.9886666666666666\n"
     ]
    }
   ],
   "source": [
    "import matplotlib.pyplot as plt\n",
    "def runSimulation(num,numTrials,a,n,d,T,F,c1,c2,c3,D):\n",
    "    x=np.zeros(num)\n",
    "\n",
    "    for j in range(num):\n",
    "        x[j]=runTrials(numTrials,a0,n0,d,T,F,c1,c2,c3,D)/numTrials\n",
    "\n",
    "    plt.hist(x, bins=10)\n",
    "    plt.show()\n",
    "    print(\"Average success: \" + str(np.average(x)))\n",
    "    \n",
    "runSimulation(30,100,a0,n0,d,T,F,c1,c2,c3,D)"
   ]
  },
  {
   "cell_type": "code",
   "execution_count": 120,
   "metadata": {},
   "outputs": [
    {
     "name": "stdout",
     "output_type": "stream",
     "text": [
      "Log-Normal Distribution Results:\n"
     ]
    },
    {
     "data": {
      "image/png": "[encoded data removed]",
      "text/plain": [
       "<Figure size 432x288 with 1 Axes>"
      ]
     },
     "metadata": {
      "needs_background": "light"
     },
     "output_type": "display_data"
    },
    {
     "name": "stdout",
     "output_type": "stream",
     "text": [
      "Average success: 0.9886666666666667\n",
      "\n",
      "Exponential Distribution Results:\n"
     ]
    },
    {
     "data": {
      "image/png": "[encoded data removed]",
      "text/plain": [
       "<Figure size 432x288 with 1 Axes>"
      ]
     },
     "metadata": {
      "needs_background": "light"
     },
     "output_type": "display_data"
    },
    {
     "name": "stdout",
     "output_type": "stream",
     "text": [
      "Average success: 0.9543333333333334\n",
      "\n",
      "Gamma Distribution Results:\n"
     ]
    },
    {
     "data": {
      "image/png": "[encoded data removed]",
      "text/plain": [
       "<Figure size 432x288 with 1 Axes>"
      ]
     },
     "metadata": {
      "needs_background": "light"
     },
     "output_type": "display_data"
    },
    {
     "name": "stdout",
     "output_type": "stream",
     "text": [
      "Average success: 0.9876666666666665\n",
      "\n",
      "Weibull Distribution Results:\n"
     ]
    },
    {
     "data": {
      "image/png": "[encoded data removed]",
      "text/plain": [
       "<Figure size 432x288 with 1 Axes>"
      ]
     },
     "metadata": {
      "needs_background": "light"
     },
     "output_type": "display_data"
    },
    {
     "name": "stdout",
     "output_type": "stream",
     "text": [
      "Average success: 0.9923333333333332\n",
      "\n"
     ]
    }
   ],
   "source": [
    "for i in range(4):\n",
    "    print(f'{F_names[i]} Distribution Results:')\n",
    "    runSimulation(30,100,a0,n0,d,T,F,c1,c2,c3,i)\n",
    "    print()"
   ]
  },
  {
   "cell_type": "code",
   "execution_count": null,
   "metadata": {},
   "outputs": [],
   "source": []
  }
 ],
 "metadata": {
  "kernelspec": {
   "display_name": "Python 3",
   "language": "python",
   "name": "python3"
  },
  "language_info": {
   "codemirror_mode": {
    "name": "ipython",
    "version": 3
   },
   "file_extension": ".py",
   "mimetype": "text/x-python",
   "name": "python",
   "nbconvert_exporter": "python",
   "pygments_lexer": "ipython3",
   "version": "3.8.5"
  }
 },
 "nbformat": 4,
 "nbformat_minor": 4
}
