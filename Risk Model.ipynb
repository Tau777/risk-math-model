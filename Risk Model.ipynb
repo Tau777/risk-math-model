{
 "cells": [
  {
   "cell_type": "code",
   "execution_count": 1,
   "metadata": {},
   "outputs": [],
   "source": [
    "import numpy as np\n",
    "\n",
    "#starting capital\n",
    "a0 = 10000\n",
    "\n",
    "#starting subscribers\n",
    "n0 = 1000\n",
    "\n",
    "#monthly fee\n",
    "d = 133\n",
    "\n",
    "#number of months to check for bankruptcy\n",
    "T = 120\n",
    "\n",
    "#claim amount, uses exponential distribution with minimum cost\n",
    "def F(average = 38400, minAmount = 500):\n",
    "    return minAmount + np.random.exponential(average - minAmount)\n",
    "\n",
    "#rate one subscriber leaves\n",
    "c1 = 0.0069\n",
    "#rate one subscriber joins\n",
    "c2 = 0.0072\n",
    "#rate one claim occurs\n",
    "c3 = 0.0015\n",
    "\n",
    "#rate at which subscribers leave\n",
    "mu = n0 * c1\n",
    "#rate at which subscribers join\n",
    "nu = n0 * c2\n",
    "#rate at which claims occur\n",
    "lam = n0 * c3"
   ]
  },
  {
   "cell_type": "code",
   "execution_count": 2,
   "metadata": {},
   "outputs": [
    {
     "name": "stdout",
     "output_type": "stream",
     "text": [
      "0\n"
     ]
    }
   ],
   "source": [
    "def R(a,n,d,T,F,c1,c2,c3):\n",
    "    success = 1\n",
    "    \n",
    "    for i in range(T):\n",
    "        #update rates based on number of subscribers\n",
    "        mu = n*c1\n",
    "        nu = n*c2\n",
    "        lam = n*c3\n",
    "        \n",
    "        #randomly generate joining/leaving subscribers\n",
    "        num_join = np.random.poisson(nu)\n",
    "        num_leave = np.random.exponential(1/mu)\n",
    "        \n",
    "        #update total subscribers\n",
    "        n = n + num_join - num_leave\n",
    "        \n",
    "        #randomly generate number of crashes\n",
    "        num_crashes = np.random.poisson(lam)\n",
    "        \n",
    "        #calculate total damage\n",
    "        damage_total = 0\n",
    "        for i in range(num_crashes):\n",
    "            damage_total += F()\n",
    "        \n",
    "        #update capital available\n",
    "        a = a + n*d - damage_total\n",
    "        \n",
    "        #make sure not negative number of subscribers\n",
    "        if n < 0:\n",
    "            n = 0\n",
    "        \n",
    "        if a < 0:\n",
    "            success = 0\n",
    "            break\n",
    "    \n",
    "    return(success)\n",
    "\n",
    "print(R(a0,n0,d,T,F,c1,c2,c3))"
   ]
  },
  {
   "cell_type": "code",
   "execution_count": 3,
   "metadata": {},
   "outputs": [
    {
     "name": "stdout",
     "output_type": "stream",
     "text": [
      "88\n",
      "0.88\n"
     ]
    }
   ],
   "source": [
    "def runTrials(num,a,n,d,T,F,c1,c2,c3):\n",
    "    S=0\n",
    "    for k in range (num):\n",
    "        Y=R(a0,n0,d,T,F,c1,c2,c3)\n",
    "        S=S+Y\n",
    "    return S\n",
    "\n",
    "num = 100\n",
    "S = runTrials(num,a0,n0,d,T,F,c1,c2,c3)\n",
    "print(S)\n",
    "print(S/num)"
   ]
  },
  {
   "cell_type": "code",
   "execution_count": 4,
   "metadata": {},
   "outputs": [
    {
     "data": {
      "image/png": "[encoded data removed]",
      "text/plain": [
       "<Figure size 432x288 with 1 Axes>"
      ]
     },
     "metadata": {
      "needs_background": "light"
     },
     "output_type": "display_data"
    },
    {
     "name": "stdout",
     "output_type": "stream",
     "text": [
      "Average success: 0.8686666666666665\n"
     ]
    }
   ],
   "source": [
    "import matplotlib.pyplot as plt\n",
    "def runSimulation(num,numTrials,a,n,d,T,F,c1,c2,c3):\n",
    "    x=np.zeros(num)\n",
    "\n",
    "    for j in range(num):\n",
    "        x[j]=runTrials(numTrials,a0,n0,d,T,F,c1,c2,c3)/numTrials\n",
    "\n",
    "    plt.hist(x, bins=10)\n",
    "    plt.show()\n",
    "    print(\"Average success: \" + str(np.average(x)))\n",
    "    \n",
    "runSimulation(30,100,a0,n0,d,T,F,c1,c2,c3)"
   ]
  },
  {
   "cell_type": "code",
   "execution_count": null,
   "metadata": {},
   "outputs": [],
   "source": []
  }
 ],
 "metadata": {
  "kernelspec": {
   "display_name": "Python 3",
   "language": "python",
   "name": "python3"
  },
  "language_info": {
   "codemirror_mode": {
    "name": "ipython",
    "version": 3
   },
   "file_extension": ".py",
   "mimetype": "text/x-python",
   "name": "python",
   "nbconvert_exporter": "python",
   "pygments_lexer": "ipython3",
   "version": "3.7.6"
  }
 },
 "nbformat": 4,
 "nbformat_minor": 4
}
